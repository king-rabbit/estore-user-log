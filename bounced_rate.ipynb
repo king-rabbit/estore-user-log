{
 "cells": [
  {
   "cell_type": "code",
   "execution_count": 1,
   "metadata": {},
   "outputs": [],
   "source": [
    "import pandas as pd\n",
    "import numpy as np\n",
    "import seaborn as sns\n",
    "from plotly import graph_objects as go\n",
    "import matplotlib.pyplot as plt\n",
    "%matplotlib inline"
   ]
  },
  {
   "cell_type": "code",
   "execution_count": 2,
   "metadata": {},
   "outputs": [],
   "source": [
    "df = pd.read_csv('events.csv')"
   ]
  },
  {
   "cell_type": "code",
   "execution_count": 3,
   "metadata": {},
   "outputs": [
    {
     "name": "stdout",
     "output_type": "stream",
     "text": [
      "<class 'pandas.core.frame.DataFrame'>\n",
      "RangeIndex: 885129 entries, 0 to 885128\n",
      "Data columns (total 9 columns):\n",
      " #   Column         Non-Null Count   Dtype  \n",
      "---  ------         --------------   -----  \n",
      " 0   event_time     885129 non-null  object \n",
      " 1   event_type     885129 non-null  object \n",
      " 2   product_id     885129 non-null  int64  \n",
      " 3   category_id    885129 non-null  int64  \n",
      " 4   category_code  648910 non-null  object \n",
      " 5   brand          672765 non-null  object \n",
      " 6   price          885129 non-null  float64\n",
      " 7   user_id        885129 non-null  int64  \n",
      " 8   user_session   884964 non-null  object \n",
      "dtypes: float64(1), int64(3), object(5)\n",
      "memory usage: 60.8+ MB\n"
     ]
    }
   ],
   "source": [
    "df.info()"
   ]
  },
  {
   "cell_type": "code",
   "execution_count": 4,
   "metadata": {},
   "outputs": [
    {
     "data": {
      "text/html": [
       "<div>\n",
       "<style scoped>\n",
       "    .dataframe tbody tr th:only-of-type {\n",
       "        vertical-align: middle;\n",
       "    }\n",
       "\n",
       "    .dataframe tbody tr th {\n",
       "        vertical-align: top;\n",
       "    }\n",
       "\n",
       "    .dataframe thead th {\n",
       "        text-align: right;\n",
       "    }\n",
       "</style>\n",
       "<table border=\"1\" class=\"dataframe\">\n",
       "  <thead>\n",
       "    <tr style=\"text-align: right;\">\n",
       "      <th></th>\n",
       "      <th>product_id</th>\n",
       "      <th>category_id</th>\n",
       "      <th>price</th>\n",
       "      <th>user_id</th>\n",
       "    </tr>\n",
       "  </thead>\n",
       "  <tbody>\n",
       "    <tr>\n",
       "      <th>count</th>\n",
       "      <td>8.851290e+05</td>\n",
       "      <td>8.851290e+05</td>\n",
       "      <td>885129.000000</td>\n",
       "      <td>8.851290e+05</td>\n",
       "    </tr>\n",
       "    <tr>\n",
       "      <th>mean</th>\n",
       "      <td>1.906621e+06</td>\n",
       "      <td>2.144423e+18</td>\n",
       "      <td>146.328713</td>\n",
       "      <td>1.515916e+18</td>\n",
       "    </tr>\n",
       "    <tr>\n",
       "      <th>std</th>\n",
       "      <td>1.458708e+06</td>\n",
       "      <td>6.165105e+14</td>\n",
       "      <td>296.807683</td>\n",
       "      <td>3.747287e+07</td>\n",
       "    </tr>\n",
       "    <tr>\n",
       "      <th>min</th>\n",
       "      <td>1.020000e+02</td>\n",
       "      <td>2.144416e+18</td>\n",
       "      <td>0.220000</td>\n",
       "      <td>1.515916e+18</td>\n",
       "    </tr>\n",
       "    <tr>\n",
       "      <th>25%</th>\n",
       "      <td>6.988030e+05</td>\n",
       "      <td>2.144416e+18</td>\n",
       "      <td>26.460000</td>\n",
       "      <td>1.515916e+18</td>\n",
       "    </tr>\n",
       "    <tr>\n",
       "      <th>50%</th>\n",
       "      <td>1.452883e+06</td>\n",
       "      <td>2.144416e+18</td>\n",
       "      <td>65.710000</td>\n",
       "      <td>1.515916e+18</td>\n",
       "    </tr>\n",
       "    <tr>\n",
       "      <th>75%</th>\n",
       "      <td>3.721194e+06</td>\n",
       "      <td>2.144416e+18</td>\n",
       "      <td>190.490000</td>\n",
       "      <td>1.515916e+18</td>\n",
       "    </tr>\n",
       "    <tr>\n",
       "      <th>max</th>\n",
       "      <td>4.183880e+06</td>\n",
       "      <td>2.227847e+18</td>\n",
       "      <td>64771.060000</td>\n",
       "      <td>1.515916e+18</td>\n",
       "    </tr>\n",
       "  </tbody>\n",
       "</table>\n",
       "</div>"
      ],
      "text/plain": [
       "         product_id   category_id          price       user_id\n",
       "count  8.851290e+05  8.851290e+05  885129.000000  8.851290e+05\n",
       "mean   1.906621e+06  2.144423e+18     146.328713  1.515916e+18\n",
       "std    1.458708e+06  6.165105e+14     296.807683  3.747287e+07\n",
       "min    1.020000e+02  2.144416e+18       0.220000  1.515916e+18\n",
       "25%    6.988030e+05  2.144416e+18      26.460000  1.515916e+18\n",
       "50%    1.452883e+06  2.144416e+18      65.710000  1.515916e+18\n",
       "75%    3.721194e+06  2.144416e+18     190.490000  1.515916e+18\n",
       "max    4.183880e+06  2.227847e+18   64771.060000  1.515916e+18"
      ]
     },
     "execution_count": 4,
     "metadata": {},
     "output_type": "execute_result"
    }
   ],
   "source": [
    "df.describe()"
   ]
  },
  {
   "cell_type": "code",
   "execution_count": 5,
   "metadata": {},
   "outputs": [
    {
     "data": {
      "text/html": [
       "<div>\n",
       "<style scoped>\n",
       "    .dataframe tbody tr th:only-of-type {\n",
       "        vertical-align: middle;\n",
       "    }\n",
       "\n",
       "    .dataframe tbody tr th {\n",
       "        vertical-align: top;\n",
       "    }\n",
       "\n",
       "    .dataframe thead th {\n",
       "        text-align: right;\n",
       "    }\n",
       "</style>\n",
       "<table border=\"1\" class=\"dataframe\">\n",
       "  <thead>\n",
       "    <tr style=\"text-align: right;\">\n",
       "      <th></th>\n",
       "      <th>event_time</th>\n",
       "      <th>event_type</th>\n",
       "      <th>product_id</th>\n",
       "      <th>category_id</th>\n",
       "      <th>category_code</th>\n",
       "      <th>brand</th>\n",
       "      <th>price</th>\n",
       "      <th>user_id</th>\n",
       "      <th>user_session</th>\n",
       "    </tr>\n",
       "  </thead>\n",
       "  <tbody>\n",
       "    <tr>\n",
       "      <th>0</th>\n",
       "      <td>2020-09-24 11:57:06 UTC</td>\n",
       "      <td>view</td>\n",
       "      <td>1996170</td>\n",
       "      <td>2144415922528452715</td>\n",
       "      <td>electronics.telephone</td>\n",
       "      <td>NaN</td>\n",
       "      <td>31.90</td>\n",
       "      <td>1515915625519388267</td>\n",
       "      <td>LJuJVLEjPT</td>\n",
       "    </tr>\n",
       "    <tr>\n",
       "      <th>1</th>\n",
       "      <td>2020-09-24 11:57:26 UTC</td>\n",
       "      <td>view</td>\n",
       "      <td>139905</td>\n",
       "      <td>2144415926932472027</td>\n",
       "      <td>computers.components.cooler</td>\n",
       "      <td>zalman</td>\n",
       "      <td>17.16</td>\n",
       "      <td>1515915625519380411</td>\n",
       "      <td>tdicluNnRY</td>\n",
       "    </tr>\n",
       "    <tr>\n",
       "      <th>2</th>\n",
       "      <td>2020-09-24 11:57:27 UTC</td>\n",
       "      <td>view</td>\n",
       "      <td>215454</td>\n",
       "      <td>2144415927158964449</td>\n",
       "      <td>NaN</td>\n",
       "      <td>NaN</td>\n",
       "      <td>9.81</td>\n",
       "      <td>1515915625513238515</td>\n",
       "      <td>4TMArHtXQy</td>\n",
       "    </tr>\n",
       "    <tr>\n",
       "      <th>3</th>\n",
       "      <td>2020-09-24 11:57:33 UTC</td>\n",
       "      <td>view</td>\n",
       "      <td>635807</td>\n",
       "      <td>2144415923107266682</td>\n",
       "      <td>computers.peripherals.printer</td>\n",
       "      <td>pantum</td>\n",
       "      <td>113.81</td>\n",
       "      <td>1515915625519014356</td>\n",
       "      <td>aGFYrNgC08</td>\n",
       "    </tr>\n",
       "    <tr>\n",
       "      <th>4</th>\n",
       "      <td>2020-09-24 11:57:36 UTC</td>\n",
       "      <td>view</td>\n",
       "      <td>3658723</td>\n",
       "      <td>2144415921169498184</td>\n",
       "      <td>NaN</td>\n",
       "      <td>cameronsino</td>\n",
       "      <td>15.87</td>\n",
       "      <td>1515915625510743344</td>\n",
       "      <td>aa4mmk0kwQ</td>\n",
       "    </tr>\n",
       "  </tbody>\n",
       "</table>\n",
       "</div>"
      ],
      "text/plain": [
       "                event_time event_type  product_id          category_id  \\\n",
       "0  2020-09-24 11:57:06 UTC       view     1996170  2144415922528452715   \n",
       "1  2020-09-24 11:57:26 UTC       view      139905  2144415926932472027   \n",
       "2  2020-09-24 11:57:27 UTC       view      215454  2144415927158964449   \n",
       "3  2020-09-24 11:57:33 UTC       view      635807  2144415923107266682   \n",
       "4  2020-09-24 11:57:36 UTC       view     3658723  2144415921169498184   \n",
       "\n",
       "                   category_code        brand   price              user_id  \\\n",
       "0          electronics.telephone          NaN   31.90  1515915625519388267   \n",
       "1    computers.components.cooler       zalman   17.16  1515915625519380411   \n",
       "2                            NaN          NaN    9.81  1515915625513238515   \n",
       "3  computers.peripherals.printer       pantum  113.81  1515915625519014356   \n",
       "4                            NaN  cameronsino   15.87  1515915625510743344   \n",
       "\n",
       "  user_session  \n",
       "0   LJuJVLEjPT  \n",
       "1   tdicluNnRY  \n",
       "2   4TMArHtXQy  \n",
       "3   aGFYrNgC08  \n",
       "4   aa4mmk0kwQ  "
      ]
     },
     "execution_count": 5,
     "metadata": {},
     "output_type": "execute_result"
    }
   ],
   "source": [
    "df.head()"
   ]
  },
  {
   "cell_type": "code",
   "execution_count": 6,
   "metadata": {},
   "outputs": [
    {
     "data": {
      "text/plain": [
       "{'cart', 'purchase', 'view'}"
      ]
     },
     "execution_count": 6,
     "metadata": {},
     "output_type": "execute_result"
    }
   ],
   "source": [
    "# event type 종류 확인\n",
    "set(df['event_type'])"
   ]
  },
  {
   "cell_type": "code",
   "execution_count": 7,
   "metadata": {},
   "outputs": [],
   "source": [
    "df['datetime'] = pd.to_datetime(df['event_time'])"
   ]
  },
  {
   "cell_type": "code",
   "execution_count": 56,
   "metadata": {},
   "outputs": [],
   "source": [
    "# 이탈율 분석"
   ]
  },
  {
   "cell_type": "code",
   "execution_count": 8,
   "metadata": {},
   "outputs": [],
   "source": [
    "view_cnt_per_session = pd.pivot_table(df, index=['user_session', 'user_id'], values= ['event_time', 'datetime'], aggfunc={'event_time': 'count', 'datetime':min}).reset_index()\n",
    "view_cnt_per_session['month'] = view_cnt_per_session['datetime'].dt.strftime('%Y-%m')"
   ]
  },
  {
   "cell_type": "code",
   "execution_count": 9,
   "metadata": {},
   "outputs": [],
   "source": [
    "view_cnt_per_session['bounced'] = view_cnt_per_session.event_time == 1\n",
    "view_cnt_per_session['bounced'] = view_cnt_per_session['bounced'].astype(int)"
   ]
  },
  {
   "cell_type": "code",
   "execution_count": 10,
   "metadata": {},
   "outputs": [],
   "source": [
    "bounced = pd.pivot_table(view_cnt_per_session, index='month', columns='bounced', aggfunc={'count'})['datetime']"
   ]
  },
  {
   "cell_type": "code",
   "execution_count": 11,
   "metadata": {},
   "outputs": [],
   "source": [
    "bounced = bounced.reset_index(col_level=1)\n",
    "bounced = bounced.droplevel(axis=1,level=0)\n",
    "bounced = bounced.rename(columns={0:'bounced', 1:'not_bounced'})"
   ]
  },
  {
   "cell_type": "code",
   "execution_count": 12,
   "metadata": {},
   "outputs": [],
   "source": [
    "bounced['bounced_rate'] = bounced['bounced'] / ( bounced['bounced'] + bounced['not_bounced'] ) * 100"
   ]
  },
  {
   "cell_type": "code",
   "execution_count": 14,
   "metadata": {},
   "outputs": [
    {
     "data": {
      "text/plain": [
       "<AxesSubplot:xlabel='month', ylabel='bounced_rate'>"
      ]
     },
     "execution_count": 14,
     "metadata": {},
     "output_type": "execute_result"
    },
    {
     "data": {
      "image/png": "[encoded data removed]",
      "text/plain": [
       "<Figure size 432x288 with 1 Axes>"
      ]
     },
     "metadata": {
      "needs_background": "light"
     },
     "output_type": "display_data"
    }
   ],
   "source": [
    "sns.lineplot(x=bounced['month'], y=bounced['bounced_rate'])"
   ]
  },
  {
   "cell_type": "code",
   "execution_count": null,
   "metadata": {},
   "outputs": [],
   "source": [
    "# 이탈률이 증가하는 추세임.\n",
    "# 유저들이 어떻게 유입됐는지 알 수 있으면 이탈 요인 분석할 수 있을 듯"
   ]
  },
  {
   "cell_type": "code",
   "execution_count": null,
   "metadata": {},
   "outputs": [],
   "source": [
    "# 코호트별 이탈률 분석"
   ]
  },
  {
   "cell_type": "code",
   "execution_count": 65,
   "metadata": {},
   "outputs": [],
   "source": [
    "cohort_month = pd.DataFrame(view_cnt_per_session.groupby(by='user_id')['month'].min()).reset_index()"
   ]
  },
  {
   "cell_type": "code",
   "execution_count": 66,
   "metadata": {},
   "outputs": [],
   "source": [
    "cohort_month = cohort_month.rename(columns={'month':'cohort'})\n",
    "view_cnt_per_session = pd.merge(view_cnt_per_session, cohort_month, on='user_id', how='left')"
   ]
  },
  {
   "cell_type": "code",
   "execution_count": 75,
   "metadata": {},
   "outputs": [],
   "source": [
    "cohort_bounced = pd.DataFrame(view_cnt_per_session.groupby(by=['cohort', 'month'])['bounced'].mean()).reset_index()"
   ]
  },
  {
   "cell_type": "code",
   "execution_count": 76,
   "metadata": {},
   "outputs": [],
   "source": [
    "cohort_bounced['bounced_rate'] = (1 - cohort_bounced['bounced']) * 100"
   ]
  },
  {
   "cell_type": "code",
   "execution_count": 77,
   "metadata": {},
   "outputs": [],
   "source": [
    "def cohort_period(df):\n",
    "    df['CohortPeriod'] = np.arange(len(df)) + 1\n",
    "    return df\n",
    "\n",
    "cohort_bounced = cohort_bounced.groupby(by='cohort').apply(cohort_period)"
   ]
  },
  {
   "cell_type": "code",
   "execution_count": 79,
   "metadata": {},
   "outputs": [],
   "source": [
    "cohort_bounced.set_index(['cohort', 'CohortPeriod'], inplace=True)"
   ]
  },
  {
   "cell_type": "code",
   "execution_count": 80,
   "metadata": {},
   "outputs": [],
   "source": [
    "cohort_bounced_unstack = cohort_bounced[['bounced_rate']].unstack(level=0)"
   ]
  },
  {
   "cell_type": "code",
   "execution_count": 81,
   "metadata": {},
   "outputs": [
    {
     "data": {
      "text/plain": [
       "<AxesSubplot:title={'center':'월별 코호트 이탈율'}, xlabel='CohortPeriod', ylabel='None-cohort'>"
      ]
     },
     "execution_count": 81,
     "metadata": {},
     "output_type": "execute_result"
    },
    {
     "data": {
      "image/png": "[encoded data removed]",
      "text/plain": [
       "<Figure size 720x576 with 2 Axes>"
      ]
     },
     "metadata": {
      "needs_background": "light"
     },
     "output_type": "display_data"
    }
   ],
   "source": [
    "plt.figure(figsize=(10,8))\n",
    "plt.title('월별 코호트 이탈율')\n",
    "plt.rc('font', family='Malgun Gothic') #한글 폰트 설정\n",
    "sns.heatmap(cohort_bounced_unstack.T, mask=cohort_bounced_unstack.T.isnull(), annot=True, fmt='.0%')"
   ]
  },
  {
   "cell_type": "code",
   "execution_count": null,
   "metadata": {},
   "outputs": [],
   "source": [
    "# 시간이 지날수록 코호트별 month-1, month-2 .., month-5 이탈률이 증가하고 있어 첫 랜딩 경험이 악화되는 것으로 보임.\n",
    "# 2020-09 코호트는 비교적 시간이 지나도 이탈율이 유지되나, 2020-10 코호트, 2020-11 코호트 등 이후 첫 접속한 코호트들은 시간이 지날수록 이탈률이 증가함.\n",
    "# 재접속 시 원하는 것이 없다고 판단해 이탈하는 비율이 증가하는 것."
   ]
  },
  {
   "cell_type": "code",
   "execution_count": null,
   "metadata": {},
   "outputs": [],
   "source": [
    "# 고객 세그먼트별 이탈률 분석"
   ]
  },
  {
   "cell_type": "code",
   "execution_count": null,
   "metadata": {},
   "outputs": [],
   "source": [
    "# RFM 이외에 브랜드 제품 구매 비율 변수를 추가해서 고객 분류"
   ]
  },
  {
   "cell_type": "code",
   "execution_count": 15,
   "metadata": {},
   "outputs": [],
   "source": [
    "df_purchase = df[df['event_type']=='purchase'] #제품을 구매한 고객 데이터만 대상으로 함.\n",
    "recent_date = pd.DataFrame(df_purchase.groupby(['user_id'])['datetime'].max().reset_index())"
   ]
  },
  {
   "cell_type": "code",
   "execution_count": 16,
   "metadata": {},
   "outputs": [
    {
     "data": {
      "text/plain": [
       "Timestamp('2020-09-24 12:04:10+0000', tz='UTC')"
      ]
     },
     "execution_count": 16,
     "metadata": {},
     "output_type": "execute_result"
    }
   ],
   "source": [
    "recent_date['datetime'].min()"
   ]
  },
  {
   "cell_type": "code",
   "execution_count": 17,
   "metadata": {},
   "outputs": [
    {
     "data": {
      "text/plain": [
       "Timestamp('2021-02-28 23:30:24+0000', tz='UTC')"
      ]
     },
     "execution_count": 17,
     "metadata": {},
     "output_type": "execute_result"
    }
   ],
   "source": [
    "recent_date['datetime'].max()"
   ]
  },
  {
   "cell_type": "code",
   "execution_count": 18,
   "metadata": {},
   "outputs": [],
   "source": [
    "recent_date['recency'] = recent_date.datetime > '2020-12-01'"
   ]
  },
  {
   "cell_type": "code",
   "execution_count": 19,
   "metadata": {},
   "outputs": [],
   "source": [
    "# Frequency: 고객별 주문건수 확인\n",
    "# 주문 건별 아이디가 없어 같은 세션에서 구매했으면 같은 주문일 것으로 가정하고 세션을 카운트함.\n",
    "freq = pd.DataFrame(df_purchase.groupby(['user_id'])['user_session'].count()).reset_index()\n",
    "freq = freq.rename(columns={'user_session':'orders'})"
   ]
  },
  {
   "cell_type": "code",
   "execution_count": 20,
   "metadata": {},
   "outputs": [],
   "source": [
    "# Monetary: 고객별 주문금액 집계\n",
    "monetary = pd.DataFrame(df_purchase.groupby(['user_id'])['price'].sum()).reset_index()"
   ]
  },
  {
   "cell_type": "code",
   "execution_count": 21,
   "metadata": {},
   "outputs": [],
   "source": [
    "rf = pd.merge(recent_date, freq, how='right', on='user_id')\n",
    "rfm = pd.merge(rf, monetary, how='right', on='user_id')"
   ]
  },
  {
   "cell_type": "code",
   "execution_count": 22,
   "metadata": {},
   "outputs": [],
   "source": [
    "# 브랜드 상품 구매 비율 계산\n",
    "brand_purchase = pd.DataFrame(df_purchase.groupby(['user_id']).count()[['product_id', 'brand']]).reset_index()\n",
    "brand_purchase['brand_pref'] = brand_purchase['brand'] / brand_purchase['product_id']"
   ]
  },
  {
   "cell_type": "code",
   "execution_count": 23,
   "metadata": {},
   "outputs": [],
   "source": [
    "brand_purchase = brand_purchase[['user_id', 'brand_pref']]\n",
    "rfmb = pd.merge(rfm, brand_purchase, how='right', on='user_id')"
   ]
  },
  {
   "cell_type": "code",
   "execution_count": 24,
   "metadata": {},
   "outputs": [],
   "source": [
    "del rfmb['datetime']"
   ]
  },
  {
   "cell_type": "code",
   "execution_count": 25,
   "metadata": {},
   "outputs": [],
   "source": [
    "from sklearn.cluster import KMeans\n",
    "rfmb = pd.get_dummies(rfmb, columns=['recency'], drop_first = True)"
   ]
  },
  {
   "cell_type": "code",
   "execution_count": 26,
   "metadata": {},
   "outputs": [],
   "source": [
    "rfmb.set_index('user_id', inplace=True)"
   ]
  },
  {
   "cell_type": "code",
   "execution_count": 27,
   "metadata": {},
   "outputs": [
    {
     "data": {
      "text/plain": [
       "<AxesSubplot:>"
      ]
     },
     "execution_count": 27,
     "metadata": {},
     "output_type": "execute_result"
    },
    {
     "data": {
      "image/png": "[encoded data removed]",
      "text/plain": [
       "<Figure size 432x288 with 1 Axes>"
      ]
     },
     "metadata": {
      "needs_background": "light"
     },
     "output_type": "display_data"
    }
   ],
   "source": [
    "#적정그룹수 정하기\n",
    "inertia = []\n",
    "\n",
    "for i in range(2, 11):\n",
    "    model = KMeans(n_clusters=i)\n",
    "    model.fit(rfmb)\n",
    "    inertia.append(model.inertia_)\n",
    "    \n",
    "sns.lineplot(x=list(range(2,11)), y=inertia)"
   ]
  },
  {
   "cell_type": "code",
   "execution_count": 28,
   "metadata": {},
   "outputs": [],
   "source": [
    "# 4개를 클러스터 개수로 정하고 클러스터링 진행\n",
    "\n",
    "model = KMeans(n_clusters=4)\n",
    "model.fit(rfmb)\n",
    "rfmb['cluster'] = model.labels_"
   ]
  },
  {
   "cell_type": "code",
   "execution_count": 29,
   "metadata": {},
   "outputs": [
    {
     "data": {
      "text/html": [
       "<div>\n",
       "<style scoped>\n",
       "    .dataframe tbody tr th:only-of-type {\n",
       "        vertical-align: middle;\n",
       "    }\n",
       "\n",
       "    .dataframe tbody tr th {\n",
       "        vertical-align: top;\n",
       "    }\n",
       "\n",
       "    .dataframe thead th {\n",
       "        text-align: right;\n",
       "    }\n",
       "</style>\n",
       "<table border=\"1\" class=\"dataframe\">\n",
       "  <thead>\n",
       "    <tr style=\"text-align: right;\">\n",
       "      <th></th>\n",
       "      <th>users</th>\n",
       "    </tr>\n",
       "    <tr>\n",
       "      <th>cluster</th>\n",
       "      <th></th>\n",
       "    </tr>\n",
       "  </thead>\n",
       "  <tbody>\n",
       "    <tr>\n",
       "      <th>0</th>\n",
       "      <td>16574</td>\n",
       "    </tr>\n",
       "    <tr>\n",
       "      <th>1</th>\n",
       "      <td>812</td>\n",
       "    </tr>\n",
       "    <tr>\n",
       "      <th>2</th>\n",
       "      <td>3833</td>\n",
       "    </tr>\n",
       "    <tr>\n",
       "      <th>3</th>\n",
       "      <td>85</td>\n",
       "    </tr>\n",
       "  </tbody>\n",
       "</table>\n",
       "</div>"
      ],
      "text/plain": [
       "         users\n",
       "cluster       \n",
       "0        16574\n",
       "1          812\n",
       "2         3833\n",
       "3           85"
      ]
     },
     "execution_count": 29,
     "metadata": {},
     "output_type": "execute_result"
    }
   ],
   "source": [
    "pd.DataFrame(rfmb.groupby(by='cluster')['orders'].count()).rename(columns={'orders':'users'})"
   ]
  },
  {
   "cell_type": "code",
   "execution_count": 30,
   "metadata": {},
   "outputs": [],
   "source": [
    "summary = rfmb.groupby('cluster').mean().reset_index()"
   ]
  },
  {
   "cell_type": "code",
   "execution_count": 31,
   "metadata": {},
   "outputs": [
    {
     "data": {
      "text/plain": [
       "<AxesSubplot:xlabel='cluster', ylabel='recency_True'>"
      ]
     },
     "execution_count": 31,
     "metadata": {},
     "output_type": "execute_result"
    },
    {
     "data": {
      "image/png": "[encoded data removed]",
      "text/plain": [
       "<Figure size 432x288 with 1 Axes>"
      ]
     },
     "metadata": {
      "needs_background": "light"
     },
     "output_type": "display_data"
    }
   ],
   "source": [
    "sns.barplot(x='cluster', y='recency_True', data=summary)"
   ]
  },
  {
   "cell_type": "code",
   "execution_count": 32,
   "metadata": {},
   "outputs": [
    {
     "data": {
      "text/plain": [
       "<AxesSubplot:xlabel='cluster', ylabel='orders'>"
      ]
     },
     "execution_count": 32,
     "metadata": {},
     "output_type": "execute_result"
    },
    {
     "data": {
      "image/png": "[encoded data removed]",
      "text/plain": [
       "<Figure size 432x288 with 1 Axes>"
      ]
     },
     "metadata": {
      "needs_background": "light"
     },
     "output_type": "display_data"
    }
   ],
   "source": [
    "sns.boxplot(x='cluster', y='orders', data=rfmb)"
   ]
  },
  {
   "cell_type": "code",
   "execution_count": 33,
   "metadata": {},
   "outputs": [
    {
     "data": {
      "text/plain": [
       "<AxesSubplot:xlabel='cluster', ylabel='price'>"
      ]
     },
     "execution_count": 33,
     "metadata": {},
     "output_type": "execute_result"
    },
    {
     "data": {
      "image/png": "[encoded data removed]",
      "text/plain": [
       "<Figure size 432x288 with 1 Axes>"
      ]
     },
     "metadata": {
      "needs_background": "light"
     },
     "output_type": "display_data"
    }
   ],
   "source": [
    "sns.boxplot(x='cluster', y='price', data=rfmb)"
   ]
  },
  {
   "cell_type": "code",
   "execution_count": 34,
   "metadata": {},
   "outputs": [
    {
     "data": {
      "text/plain": [
       "<AxesSubplot:xlabel='cluster', ylabel='brand_pref'>"
      ]
     },
     "execution_count": 34,
     "metadata": {},
     "output_type": "execute_result"
    },
    {
     "data": {
      "image/png": "[encoded data removed]",
      "text/plain": [
       "<Figure size 432x288 with 1 Axes>"
      ]
     },
     "metadata": {
      "needs_background": "light"
     },
     "output_type": "display_data"
    }
   ],
   "source": [
    "sns.barplot(x='cluster', y='brand_pref', data=summary)"
   ]
  },
  {
   "cell_type": "code",
   "execution_count": 37,
   "metadata": {},
   "outputs": [],
   "source": [
    "rfmb_re = rfmb[['cluster']].reset_index()"
   ]
  },
  {
   "cell_type": "code",
   "execution_count": 48,
   "metadata": {},
   "outputs": [],
   "source": [
    "view_cnt_per_session = pd.merge(view_cnt_per_session, rfmb_re, on='user_id', how='left')"
   ]
  },
  {
   "cell_type": "code",
   "execution_count": 46,
   "metadata": {},
   "outputs": [],
   "source": [
    "#제품을 전혀 구매하지 않은 고객들은 기존 cluster에 해당하지 않으므로 4번 클러스터로 할당함.\n",
    "view_cnt_per_session['cluster'] = view_cnt_per_session['cluster'].fillna(4)"
   ]
  },
  {
   "cell_type": "code",
   "execution_count": 55,
   "metadata": {},
   "outputs": [],
   "source": [
    "bounced_cluster = pd.pivot_table(view_cnt_per_session, index=['cluster', 'month'], columns='bounced', aggfunc={'count'})['datetime']"
   ]
  },
  {
   "cell_type": "code",
   "execution_count": 56,
   "metadata": {},
   "outputs": [],
   "source": [
    "bounced_cluster = bounced_cluster.reset_index(col_level=1)\n",
    "bounced_cluster = bounced_cluster.droplevel(axis=1,level=0)\n",
    "bounced_cluster = bounced_cluster.rename(columns={0:'bounced', 1:'not_bounced'})"
   ]
  },
  {
   "cell_type": "code",
   "execution_count": 58,
   "metadata": {},
   "outputs": [],
   "source": [
    "bounced_cluster['bounced_rate'] = bounced_cluster['bounced'] / ( bounced_cluster['bounced'] + bounced_cluster['not_bounced'] ) * 100"
   ]
  },
  {
   "cell_type": "code",
   "execution_count": 59,
   "metadata": {},
   "outputs": [
    {
     "data": {
      "text/html": [
       "<div>\n",
       "<style scoped>\n",
       "    .dataframe tbody tr th:only-of-type {\n",
       "        vertical-align: middle;\n",
       "    }\n",
       "\n",
       "    .dataframe tbody tr th {\n",
       "        vertical-align: top;\n",
       "    }\n",
       "\n",
       "    .dataframe thead th {\n",
       "        text-align: right;\n",
       "    }\n",
       "</style>\n",
       "<table border=\"1\" class=\"dataframe\">\n",
       "  <thead>\n",
       "    <tr style=\"text-align: right;\">\n",
       "      <th>bounced</th>\n",
       "      <th>cluster</th>\n",
       "      <th>month</th>\n",
       "      <th>bounced</th>\n",
       "      <th>not_bounced</th>\n",
       "      <th>bounced_rate</th>\n",
       "    </tr>\n",
       "  </thead>\n",
       "  <tbody>\n",
       "    <tr>\n",
       "      <th>0</th>\n",
       "      <td>0.0</td>\n",
       "      <td>2020-09</td>\n",
       "      <td>688</td>\n",
       "      <td>168</td>\n",
       "      <td>80.373832</td>\n",
       "    </tr>\n",
       "    <tr>\n",
       "      <th>1</th>\n",
       "      <td>0.0</td>\n",
       "      <td>2020-10</td>\n",
       "      <td>4028</td>\n",
       "      <td>1301</td>\n",
       "      <td>75.586414</td>\n",
       "    </tr>\n",
       "    <tr>\n",
       "      <th>2</th>\n",
       "      <td>0.0</td>\n",
       "      <td>2020-11</td>\n",
       "      <td>4723</td>\n",
       "      <td>1764</td>\n",
       "      <td>72.807153</td>\n",
       "    </tr>\n",
       "    <tr>\n",
       "      <th>3</th>\n",
       "      <td>0.0</td>\n",
       "      <td>2020-12</td>\n",
       "      <td>4000</td>\n",
       "      <td>1402</td>\n",
       "      <td>74.046649</td>\n",
       "    </tr>\n",
       "    <tr>\n",
       "      <th>4</th>\n",
       "      <td>0.0</td>\n",
       "      <td>2021-01</td>\n",
       "      <td>4180</td>\n",
       "      <td>1529</td>\n",
       "      <td>73.217726</td>\n",
       "    </tr>\n",
       "  </tbody>\n",
       "</table>\n",
       "</div>"
      ],
      "text/plain": [
       "bounced  cluster    month  bounced  not_bounced  bounced_rate\n",
       "0            0.0  2020-09      688          168     80.373832\n",
       "1            0.0  2020-10     4028         1301     75.586414\n",
       "2            0.0  2020-11     4723         1764     72.807153\n",
       "3            0.0  2020-12     4000         1402     74.046649\n",
       "4            0.0  2021-01     4180         1529     73.217726"
      ]
     },
     "execution_count": 59,
     "metadata": {},
     "output_type": "execute_result"
    }
   ],
   "source": [
    "bounced_cluster.head(5)"
   ]
  },
  {
   "cell_type": "code",
   "execution_count": 62,
   "metadata": {},
   "outputs": [],
   "source": [
    "bounced_cluster.set_index(['cluster', 'month'], inplace=True)"
   ]
  },
  {
   "cell_type": "code",
   "execution_count": 64,
   "metadata": {},
   "outputs": [],
   "source": [
    "bounced_cluster_re = bounced_cluster['bounced_rate'].unstack(level=0)"
   ]
  },
  {
   "cell_type": "code",
   "execution_count": 68,
   "metadata": {},
   "outputs": [
    {
     "data": {
      "text/plain": [
       "<AxesSubplot:title={'center':'고객 세그먼트별 월별 이탈율'}, xlabel='month', ylabel='cluster'>"
      ]
     },
     "execution_count": 68,
     "metadata": {},
     "output_type": "execute_result"
    },
    {
     "data": {
      "image/png": "[encoded data removed]",
      "text/plain": [
       "<Figure size 720x576 with 2 Axes>"
      ]
     },
     "metadata": {
      "needs_background": "light"
     },
     "output_type": "display_data"
    }
   ],
   "source": [
    "plt.figure(figsize=(10,8))\n",
    "plt.rc('font', family='Malgun Gothic') #한글 폰트 설정\n",
    "plt.title('고객 세그먼트별 월별 이탈율')\n",
    "sns.heatmap(bounced_cluster_re.T, mask=bounced_cluster_re.T.isnull(), annot=True, fmt='.0%')"
   ]
  },
  {
   "cell_type": "code",
   "execution_count": null,
   "metadata": {},
   "outputs": [],
   "source": [
    "# 가장 구매액이 높은 3번 그룹의 이탈율이 증가하고 있음. 2번째달부터 크게 증가.\n",
    "# 구매액이 낮은 0번과 2번 그룹의 이탈율은 오히려 감소하는 추세임.\n",
    "# 구매를 전혀하지 않은 4번 그룹은 이탈율이 굉장히 낮음. 즉 원하는 제품을 서칭하되 구매로는 이어지지 않는 것으로 보여 쿠폰 지급이나 할인을 통해 구매를 유도할 수 있을 것으로 보임. 또 장바구니 - 결제 퍼널이 보다 세분화되면 어느 단계에서 이탈하는지 추가분석할 수 있음."
   ]
  },
  {
   "cell_type": "code",
   "execution_count": 70,
   "metadata": {},
   "outputs": [],
   "source": [
    "df_re = pd.merge(df, rfmb_re, on='user_id', how='left')"
   ]
  },
  {
   "cell_type": "code",
   "execution_count": 74,
   "metadata": {},
   "outputs": [],
   "source": [
    "df_re['cluster'] = df_re['cluster'].fillna(4)"
   ]
  },
  {
   "cell_type": "code",
   "execution_count": 80,
   "metadata": {},
   "outputs": [
    {
     "data": {
      "text/html": [
       "<div>\n",
       "<style scoped>\n",
       "    .dataframe tbody tr th:only-of-type {\n",
       "        vertical-align: middle;\n",
       "    }\n",
       "\n",
       "    .dataframe tbody tr th {\n",
       "        vertical-align: top;\n",
       "    }\n",
       "\n",
       "    .dataframe thead th {\n",
       "        text-align: right;\n",
       "    }\n",
       "</style>\n",
       "<table border=\"1\" class=\"dataframe\">\n",
       "  <thead>\n",
       "    <tr style=\"text-align: right;\">\n",
       "      <th></th>\n",
       "      <th></th>\n",
       "      <th>event_time</th>\n",
       "      <th>product_id</th>\n",
       "      <th>category_id</th>\n",
       "      <th>category_code</th>\n",
       "      <th>brand</th>\n",
       "      <th>price</th>\n",
       "      <th>user_id</th>\n",
       "      <th>user_session</th>\n",
       "      <th>datetime</th>\n",
       "    </tr>\n",
       "    <tr>\n",
       "      <th>cluster</th>\n",
       "      <th>event_type</th>\n",
       "      <th></th>\n",
       "      <th></th>\n",
       "      <th></th>\n",
       "      <th></th>\n",
       "      <th></th>\n",
       "      <th></th>\n",
       "      <th></th>\n",
       "      <th></th>\n",
       "      <th></th>\n",
       "    </tr>\n",
       "  </thead>\n",
       "  <tbody>\n",
       "    <tr>\n",
       "      <th rowspan=\"3\" valign=\"top\">0.0</th>\n",
       "      <th>cart</th>\n",
       "      <td>21418</td>\n",
       "      <td>21418</td>\n",
       "      <td>21418</td>\n",
       "      <td>16192</td>\n",
       "      <td>14938</td>\n",
       "      <td>21418</td>\n",
       "      <td>21418</td>\n",
       "      <td>21416</td>\n",
       "      <td>21418</td>\n",
       "    </tr>\n",
       "    <tr>\n",
       "      <th>purchase</th>\n",
       "      <td>24472</td>\n",
       "      <td>24472</td>\n",
       "      <td>24472</td>\n",
       "      <td>18246</td>\n",
       "      <td>16400</td>\n",
       "      <td>24472</td>\n",
       "      <td>24472</td>\n",
       "      <td>24472</td>\n",
       "      <td>24472</td>\n",
       "    </tr>\n",
       "    <tr>\n",
       "      <th>view</th>\n",
       "      <td>70886</td>\n",
       "      <td>70886</td>\n",
       "      <td>70886</td>\n",
       "      <td>54333</td>\n",
       "      <td>52040</td>\n",
       "      <td>70886</td>\n",
       "      <td>70886</td>\n",
       "      <td>70883</td>\n",
       "      <td>70886</td>\n",
       "    </tr>\n",
       "    <tr>\n",
       "      <th rowspan=\"3\" valign=\"top\">1.0</th>\n",
       "      <th>cart</th>\n",
       "      <td>3080</td>\n",
       "      <td>3080</td>\n",
       "      <td>3080</td>\n",
       "      <td>2838</td>\n",
       "      <td>2813</td>\n",
       "      <td>3080</td>\n",
       "      <td>3080</td>\n",
       "      <td>3080</td>\n",
       "      <td>3080</td>\n",
       "    </tr>\n",
       "    <tr>\n",
       "      <th>purchase</th>\n",
       "      <td>3567</td>\n",
       "      <td>3567</td>\n",
       "      <td>3567</td>\n",
       "      <td>3276</td>\n",
       "      <td>3212</td>\n",
       "      <td>3567</td>\n",
       "      <td>3567</td>\n",
       "      <td>3567</td>\n",
       "      <td>3567</td>\n",
       "    </tr>\n",
       "    <tr>\n",
       "      <th>view</th>\n",
       "      <td>12163</td>\n",
       "      <td>12163</td>\n",
       "      <td>12163</td>\n",
       "      <td>11182</td>\n",
       "      <td>10994</td>\n",
       "      <td>12163</td>\n",
       "      <td>12163</td>\n",
       "      <td>12163</td>\n",
       "      <td>12163</td>\n",
       "    </tr>\n",
       "    <tr>\n",
       "      <th rowspan=\"3\" valign=\"top\">2.0</th>\n",
       "      <th>cart</th>\n",
       "      <td>7332</td>\n",
       "      <td>7332</td>\n",
       "      <td>7332</td>\n",
       "      <td>6643</td>\n",
       "      <td>6459</td>\n",
       "      <td>7332</td>\n",
       "      <td>7332</td>\n",
       "      <td>7332</td>\n",
       "      <td>7332</td>\n",
       "    </tr>\n",
       "    <tr>\n",
       "      <th>purchase</th>\n",
       "      <td>8289</td>\n",
       "      <td>8289</td>\n",
       "      <td>8289</td>\n",
       "      <td>7359</td>\n",
       "      <td>7280</td>\n",
       "      <td>8289</td>\n",
       "      <td>8289</td>\n",
       "      <td>8289</td>\n",
       "      <td>8289</td>\n",
       "    </tr>\n",
       "    <tr>\n",
       "      <th>view</th>\n",
       "      <td>31543</td>\n",
       "      <td>31543</td>\n",
       "      <td>31543</td>\n",
       "      <td>28368</td>\n",
       "      <td>28106</td>\n",
       "      <td>31543</td>\n",
       "      <td>31543</td>\n",
       "      <td>31543</td>\n",
       "      <td>31543</td>\n",
       "    </tr>\n",
       "    <tr>\n",
       "      <th rowspan=\"3\" valign=\"top\">3.0</th>\n",
       "      <th>cart</th>\n",
       "      <td>730</td>\n",
       "      <td>730</td>\n",
       "      <td>730</td>\n",
       "      <td>664</td>\n",
       "      <td>687</td>\n",
       "      <td>730</td>\n",
       "      <td>730</td>\n",
       "      <td>730</td>\n",
       "      <td>730</td>\n",
       "    </tr>\n",
       "    <tr>\n",
       "      <th>purchase</th>\n",
       "      <td>1018</td>\n",
       "      <td>1018</td>\n",
       "      <td>1018</td>\n",
       "      <td>897</td>\n",
       "      <td>953</td>\n",
       "      <td>1018</td>\n",
       "      <td>1018</td>\n",
       "      <td>1018</td>\n",
       "      <td>1018</td>\n",
       "    </tr>\n",
       "    <tr>\n",
       "      <th>view</th>\n",
       "      <td>2503</td>\n",
       "      <td>2503</td>\n",
       "      <td>2503</td>\n",
       "      <td>2296</td>\n",
       "      <td>2356</td>\n",
       "      <td>2503</td>\n",
       "      <td>2503</td>\n",
       "      <td>2503</td>\n",
       "      <td>2503</td>\n",
       "    </tr>\n",
       "    <tr>\n",
       "      <th rowspan=\"2\" valign=\"top\">4.0</th>\n",
       "      <th>cart</th>\n",
       "      <td>21475</td>\n",
       "      <td>21475</td>\n",
       "      <td>21475</td>\n",
       "      <td>17289</td>\n",
       "      <td>16614</td>\n",
       "      <td>21475</td>\n",
       "      <td>21475</td>\n",
       "      <td>21471</td>\n",
       "      <td>21475</td>\n",
       "    </tr>\n",
       "    <tr>\n",
       "      <th>view</th>\n",
       "      <td>676653</td>\n",
       "      <td>676653</td>\n",
       "      <td>676653</td>\n",
       "      <td>479327</td>\n",
       "      <td>509913</td>\n",
       "      <td>676653</td>\n",
       "      <td>676653</td>\n",
       "      <td>676497</td>\n",
       "      <td>676653</td>\n",
       "    </tr>\n",
       "  </tbody>\n",
       "</table>\n",
       "</div>"
      ],
      "text/plain": [
       "                    event_time  product_id  category_id  category_code  \\\n",
       "cluster event_type                                                       \n",
       "0.0     cart             21418       21418        21418          16192   \n",
       "        purchase         24472       24472        24472          18246   \n",
       "        view             70886       70886        70886          54333   \n",
       "1.0     cart              3080        3080         3080           2838   \n",
       "        purchase          3567        3567         3567           3276   \n",
       "        view             12163       12163        12163          11182   \n",
       "2.0     cart              7332        7332         7332           6643   \n",
       "        purchase          8289        8289         8289           7359   \n",
       "        view             31543       31543        31543          28368   \n",
       "3.0     cart               730         730          730            664   \n",
       "        purchase          1018        1018         1018            897   \n",
       "        view              2503        2503         2503           2296   \n",
       "4.0     cart             21475       21475        21475          17289   \n",
       "        view            676653      676653       676653         479327   \n",
       "\n",
       "                     brand   price  user_id  user_session  datetime  \n",
       "cluster event_type                                                   \n",
       "0.0     cart         14938   21418    21418         21416     21418  \n",
       "        purchase     16400   24472    24472         24472     24472  \n",
       "        view         52040   70886    70886         70883     70886  \n",
       "1.0     cart          2813    3080     3080          3080      3080  \n",
       "        purchase      3212    3567     3567          3567      3567  \n",
       "        view         10994   12163    12163         12163     12163  \n",
       "2.0     cart          6459    7332     7332          7332      7332  \n",
       "        purchase      7280    8289     8289          8289      8289  \n",
       "        view         28106   31543    31543         31543     31543  \n",
       "3.0     cart           687     730      730           730       730  \n",
       "        purchase       953    1018     1018          1018      1018  \n",
       "        view          2356    2503     2503          2503      2503  \n",
       "4.0     cart         16614   21475    21475         21471     21475  \n",
       "        view        509913  676653   676653        676497    676653  "
      ]
     },
     "execution_count": 80,
     "metadata": {},
     "output_type": "execute_result"
    }
   ],
   "source": [
    "df_re.groupby(['cluster', 'event_type']).count()"
   ]
  },
  {
   "cell_type": "code",
   "execution_count": 77,
   "metadata": {},
   "outputs": [
    {
     "data": {
      "text/html": [
       "<div>\n",
       "<style scoped>\n",
       "    .dataframe tbody tr th:only-of-type {\n",
       "        vertical-align: middle;\n",
       "    }\n",
       "\n",
       "    .dataframe tbody tr th {\n",
       "        vertical-align: top;\n",
       "    }\n",
       "\n",
       "    .dataframe thead th {\n",
       "        text-align: right;\n",
       "    }\n",
       "</style>\n",
       "<table border=\"1\" class=\"dataframe\">\n",
       "  <thead>\n",
       "    <tr style=\"text-align: right;\">\n",
       "      <th></th>\n",
       "      <th>product_id</th>\n",
       "      <th>category_id</th>\n",
       "      <th>price</th>\n",
       "      <th>user_id</th>\n",
       "    </tr>\n",
       "    <tr>\n",
       "      <th>cluster</th>\n",
       "      <th></th>\n",
       "      <th></th>\n",
       "      <th></th>\n",
       "      <th></th>\n",
       "    </tr>\n",
       "  </thead>\n",
       "  <tbody>\n",
       "    <tr>\n",
       "      <th>0.0</th>\n",
       "      <td>2.162066e+11</td>\n",
       "      <td>2.504169e+23</td>\n",
       "      <td>9.507601e+06</td>\n",
       "      <td>1.770226e+23</td>\n",
       "    </tr>\n",
       "    <tr>\n",
       "      <th>1.0</th>\n",
       "      <td>5.465494e+10</td>\n",
       "      <td>4.033653e+22</td>\n",
       "      <td>6.351963e+06</td>\n",
       "      <td>2.851437e+22</td>\n",
       "    </tr>\n",
       "    <tr>\n",
       "      <th>2.0</th>\n",
       "      <td>1.255744e+11</td>\n",
       "      <td>1.011393e+23</td>\n",
       "      <td>1.347339e+07</td>\n",
       "      <td>7.149664e+22</td>\n",
       "    </tr>\n",
       "    <tr>\n",
       "      <th>3.0</th>\n",
       "      <td>1.281974e+10</td>\n",
       "      <td>9.115919e+21</td>\n",
       "      <td>1.587694e+06</td>\n",
       "      <td>6.444157e+21</td>\n",
       "    </tr>\n",
       "    <tr>\n",
       "      <th>4.0</th>\n",
       "      <td>1.278349e+12</td>\n",
       "      <td>1.497082e+24</td>\n",
       "      <td>9.859914e+07</td>\n",
       "      <td>1.058303e+24</td>\n",
       "    </tr>\n",
       "  </tbody>\n",
       "</table>\n",
       "</div>"
      ],
      "text/plain": [
       "           product_id   category_id         price       user_id\n",
       "cluster                                                        \n",
       "0.0      2.162066e+11  2.504169e+23  9.507601e+06  1.770226e+23\n",
       "1.0      5.465494e+10  4.033653e+22  6.351963e+06  2.851437e+22\n",
       "2.0      1.255744e+11  1.011393e+23  1.347339e+07  7.149664e+22\n",
       "3.0      1.281974e+10  9.115919e+21  1.587694e+06  6.444157e+21\n",
       "4.0      1.278349e+12  1.497082e+24  9.859914e+07  1.058303e+24"
      ]
     },
     "execution_count": 77,
     "metadata": {},
     "output_type": "execute_result"
    }
   ],
   "source": [
    "df_re.groupby('cluster').sum()"
   ]
  },
  {
   "cell_type": "code",
   "execution_count": 79,
   "metadata": {},
   "outputs": [
    {
     "data": {
      "text/html": [
       "<div>\n",
       "<style scoped>\n",
       "    .dataframe tbody tr th:only-of-type {\n",
       "        vertical-align: middle;\n",
       "    }\n",
       "\n",
       "    .dataframe tbody tr th {\n",
       "        vertical-align: top;\n",
       "    }\n",
       "\n",
       "    .dataframe thead th {\n",
       "        text-align: right;\n",
       "    }\n",
       "</style>\n",
       "<table border=\"1\" class=\"dataframe\">\n",
       "  <thead>\n",
       "    <tr style=\"text-align: right;\">\n",
       "      <th></th>\n",
       "      <th>event_time</th>\n",
       "      <th>event_type</th>\n",
       "      <th>product_id</th>\n",
       "      <th>category_id</th>\n",
       "      <th>category_code</th>\n",
       "      <th>brand</th>\n",
       "      <th>price</th>\n",
       "      <th>user_session</th>\n",
       "      <th>datetime</th>\n",
       "      <th>cluster</th>\n",
       "    </tr>\n",
       "    <tr>\n",
       "      <th>user_id</th>\n",
       "      <th></th>\n",
       "      <th></th>\n",
       "      <th></th>\n",
       "      <th></th>\n",
       "      <th></th>\n",
       "      <th></th>\n",
       "      <th></th>\n",
       "      <th></th>\n",
       "      <th></th>\n",
       "      <th></th>\n",
       "    </tr>\n",
       "  </thead>\n",
       "  <tbody>\n",
       "    <tr>\n",
       "      <th>1515915625353226922</th>\n",
       "      <td>1</td>\n",
       "      <td>1</td>\n",
       "      <td>1</td>\n",
       "      <td>1</td>\n",
       "      <td>1</td>\n",
       "      <td>1</td>\n",
       "      <td>1</td>\n",
       "      <td>1</td>\n",
       "      <td>1</td>\n",
       "      <td>1</td>\n",
       "    </tr>\n",
       "    <tr>\n",
       "      <th>1515915625353230067</th>\n",
       "      <td>1</td>\n",
       "      <td>1</td>\n",
       "      <td>1</td>\n",
       "      <td>1</td>\n",
       "      <td>0</td>\n",
       "      <td>1</td>\n",
       "      <td>1</td>\n",
       "      <td>1</td>\n",
       "      <td>1</td>\n",
       "      <td>1</td>\n",
       "    </tr>\n",
       "    <tr>\n",
       "      <th>1515915625353230683</th>\n",
       "      <td>13</td>\n",
       "      <td>13</td>\n",
       "      <td>13</td>\n",
       "      <td>13</td>\n",
       "      <td>13</td>\n",
       "      <td>13</td>\n",
       "      <td>13</td>\n",
       "      <td>13</td>\n",
       "      <td>13</td>\n",
       "      <td>13</td>\n",
       "    </tr>\n",
       "    <tr>\n",
       "      <th>1515915625353230922</th>\n",
       "      <td>1</td>\n",
       "      <td>1</td>\n",
       "      <td>1</td>\n",
       "      <td>1</td>\n",
       "      <td>1</td>\n",
       "      <td>1</td>\n",
       "      <td>1</td>\n",
       "      <td>1</td>\n",
       "      <td>1</td>\n",
       "      <td>1</td>\n",
       "    </tr>\n",
       "    <tr>\n",
       "      <th>1515915625353234047</th>\n",
       "      <td>36</td>\n",
       "      <td>36</td>\n",
       "      <td>36</td>\n",
       "      <td>36</td>\n",
       "      <td>35</td>\n",
       "      <td>36</td>\n",
       "      <td>36</td>\n",
       "      <td>36</td>\n",
       "      <td>36</td>\n",
       "      <td>36</td>\n",
       "    </tr>\n",
       "    <tr>\n",
       "      <th>...</th>\n",
       "      <td>...</td>\n",
       "      <td>...</td>\n",
       "      <td>...</td>\n",
       "      <td>...</td>\n",
       "      <td>...</td>\n",
       "      <td>...</td>\n",
       "      <td>...</td>\n",
       "      <td>...</td>\n",
       "      <td>...</td>\n",
       "      <td>...</td>\n",
       "    </tr>\n",
       "    <tr>\n",
       "      <th>1515915625611023671</th>\n",
       "      <td>1</td>\n",
       "      <td>1</td>\n",
       "      <td>1</td>\n",
       "      <td>1</td>\n",
       "      <td>1</td>\n",
       "      <td>0</td>\n",
       "      <td>1</td>\n",
       "      <td>1</td>\n",
       "      <td>1</td>\n",
       "      <td>1</td>\n",
       "    </tr>\n",
       "    <tr>\n",
       "      <th>1515915625611023730</th>\n",
       "      <td>1</td>\n",
       "      <td>1</td>\n",
       "      <td>1</td>\n",
       "      <td>1</td>\n",
       "      <td>0</td>\n",
       "      <td>0</td>\n",
       "      <td>1</td>\n",
       "      <td>1</td>\n",
       "      <td>1</td>\n",
       "      <td>1</td>\n",
       "    </tr>\n",
       "    <tr>\n",
       "      <th>1515915625611024014</th>\n",
       "      <td>1</td>\n",
       "      <td>1</td>\n",
       "      <td>1</td>\n",
       "      <td>1</td>\n",
       "      <td>1</td>\n",
       "      <td>1</td>\n",
       "      <td>1</td>\n",
       "      <td>1</td>\n",
       "      <td>1</td>\n",
       "      <td>1</td>\n",
       "    </tr>\n",
       "    <tr>\n",
       "      <th>1515915625611024020</th>\n",
       "      <td>1</td>\n",
       "      <td>1</td>\n",
       "      <td>1</td>\n",
       "      <td>1</td>\n",
       "      <td>1</td>\n",
       "      <td>1</td>\n",
       "      <td>1</td>\n",
       "      <td>1</td>\n",
       "      <td>1</td>\n",
       "      <td>1</td>\n",
       "    </tr>\n",
       "    <tr>\n",
       "      <th>1515915625611024030</th>\n",
       "      <td>1</td>\n",
       "      <td>1</td>\n",
       "      <td>1</td>\n",
       "      <td>1</td>\n",
       "      <td>1</td>\n",
       "      <td>0</td>\n",
       "      <td>1</td>\n",
       "      <td>1</td>\n",
       "      <td>1</td>\n",
       "      <td>1</td>\n",
       "    </tr>\n",
       "  </tbody>\n",
       "</table>\n",
       "<p>407283 rows × 10 columns</p>\n",
       "</div>"
      ],
      "text/plain": [
       "                     event_time  event_type  product_id  category_id  \\\n",
       "user_id                                                                \n",
       "1515915625353226922           1           1           1            1   \n",
       "1515915625353230067           1           1           1            1   \n",
       "1515915625353230683          13          13          13           13   \n",
       "1515915625353230922           1           1           1            1   \n",
       "1515915625353234047          36          36          36           36   \n",
       "...                         ...         ...         ...          ...   \n",
       "1515915625611023671           1           1           1            1   \n",
       "1515915625611023730           1           1           1            1   \n",
       "1515915625611024014           1           1           1            1   \n",
       "1515915625611024020           1           1           1            1   \n",
       "1515915625611024030           1           1           1            1   \n",
       "\n",
       "                     category_code  brand  price  user_session  datetime  \\\n",
       "user_id                                                                    \n",
       "1515915625353226922              1      1      1             1         1   \n",
       "1515915625353230067              0      1      1             1         1   \n",
       "1515915625353230683             13     13     13            13        13   \n",
       "1515915625353230922              1      1      1             1         1   \n",
       "1515915625353234047             35     36     36            36        36   \n",
       "...                            ...    ...    ...           ...       ...   \n",
       "1515915625611023671              1      0      1             1         1   \n",
       "1515915625611023730              0      0      1             1         1   \n",
       "1515915625611024014              1      1      1             1         1   \n",
       "1515915625611024020              1      1      1             1         1   \n",
       "1515915625611024030              1      0      1             1         1   \n",
       "\n",
       "                     cluster  \n",
       "user_id                       \n",
       "1515915625353226922        1  \n",
       "1515915625353230067        1  \n",
       "1515915625353230683       13  \n",
       "1515915625353230922        1  \n",
       "1515915625353234047       36  \n",
       "...                      ...  \n",
       "1515915625611023671        1  \n",
       "1515915625611023730        1  \n",
       "1515915625611024014        1  \n",
       "1515915625611024020        1  \n",
       "1515915625611024030        1  \n",
       "\n",
       "[407283 rows x 10 columns]"
      ]
     },
     "execution_count": 79,
     "metadata": {},
     "output_type": "execute_result"
    }
   ],
   "source": [
    "df_re.groupby('user_id').count()"
   ]
  },
  {
   "cell_type": "code",
   "execution_count": null,
   "metadata": {},
   "outputs": [],
   "source": []
  },
  {
   "cell_type": "code",
   "execution_count": null,
   "metadata": {},
   "outputs": [],
   "source": []
  },
  {
   "cell_type": "code",
   "execution_count": null,
   "metadata": {},
   "outputs": [],
   "source": [
    "# 어떤 제품을 본 유저들이 이탈했는지 추가 분석 : 특정 제품군을 본 유저들이 많이 이탈했다면 해당 제품군은 이 사이트 이용자에게 별로 흥미를 주지 못하는 것으로 해석될 수 있음."
   ]
  },
  {
   "cell_type": "code",
   "execution_count": 119,
   "metadata": {},
   "outputs": [],
   "source": [
    "view_cnt_per_session = pd.merge(df[['user_session', 'datetime', 'category_code', 'brand']], view_cnt_per_session, on=['user_session', 'datetime'], how='right')"
   ]
  },
  {
   "cell_type": "code",
   "execution_count": 143,
   "metadata": {},
   "outputs": [],
   "source": [
    "bounced_cat = pd.pivot_table(view_cnt_per_session, index=['month', 'category_code'], columns='bounced', aggfunc={'count'})['datetime'].fillna(0)"
   ]
  },
  {
   "cell_type": "code",
   "execution_count": 144,
   "metadata": {},
   "outputs": [],
   "source": [
    "bounced_cat = bounced_cat.reset_index(col_level=1)\n",
    "bounced_cat = bounced_cat.droplevel(axis=1,level=0)\n",
    "bounced_cat = bounced_cat.rename(columns={0:'bounced', 1:'not_bounced'})"
   ]
  },
  {
   "cell_type": "code",
   "execution_count": 158,
   "metadata": {},
   "outputs": [],
   "source": [
    "bounced_cat['bounced_rate'] = bounced_cat['bounced'] / ( bounced_cat['bounced'] + bounced_cat['not_bounced'] )"
   ]
  },
  {
   "cell_type": "code",
   "execution_count": 163,
   "metadata": {},
   "outputs": [],
   "source": [
    "bounced_cat_tot = bounced_cat.groupby(by='category_code').sum()[['bounced', 'not_bounced']]"
   ]
  },
  {
   "cell_type": "code",
   "execution_count": 167,
   "metadata": {},
   "outputs": [],
   "source": [
    "bounced_cat_tot['bounced_rate'] = bounced_cat_tot['bounced'] / ( bounced_cat_tot['bounced'] + bounced_cat_tot['not_bounced'] ) * 100"
   ]
  },
  {
   "cell_type": "code",
   "execution_count": 169,
   "metadata": {},
   "outputs": [
    {
     "data": {
      "text/html": [
       "<div>\n",
       "<style scoped>\n",
       "    .dataframe tbody tr th:only-of-type {\n",
       "        vertical-align: middle;\n",
       "    }\n",
       "\n",
       "    .dataframe tbody tr th {\n",
       "        vertical-align: top;\n",
       "    }\n",
       "\n",
       "    .dataframe thead th {\n",
       "        text-align: right;\n",
       "    }\n",
       "</style>\n",
       "<table border=\"1\" class=\"dataframe\">\n",
       "  <thead>\n",
       "    <tr style=\"text-align: right;\">\n",
       "      <th>bounced</th>\n",
       "      <th>bounced</th>\n",
       "      <th>not_bounced</th>\n",
       "      <th>bounced_rate</th>\n",
       "    </tr>\n",
       "    <tr>\n",
       "      <th>category_code</th>\n",
       "      <th></th>\n",
       "      <th></th>\n",
       "      <th></th>\n",
       "    </tr>\n",
       "  </thead>\n",
       "  <tbody>\n",
       "    <tr>\n",
       "      <th>furniture.bedroom.blanket</th>\n",
       "      <td>8.0</td>\n",
       "      <td>9.0</td>\n",
       "      <td>47.058824</td>\n",
       "    </tr>\n",
       "    <tr>\n",
       "      <th>computers.components.videocards</th>\n",
       "      <td>19525.0</td>\n",
       "      <td>23902.0</td>\n",
       "      <td>44.960508</td>\n",
       "    </tr>\n",
       "    <tr>\n",
       "      <th>auto.accessories.parktronic</th>\n",
       "      <td>371.0</td>\n",
       "      <td>515.0</td>\n",
       "      <td>41.873589</td>\n",
       "    </tr>\n",
       "    <tr>\n",
       "      <th>computers.peripherals.camera</th>\n",
       "      <td>988.0</td>\n",
       "      <td>1527.0</td>\n",
       "      <td>39.284294</td>\n",
       "    </tr>\n",
       "    <tr>\n",
       "      <th>electronics.audio.dictaphone</th>\n",
       "      <td>59.0</td>\n",
       "      <td>95.0</td>\n",
       "      <td>38.311688</td>\n",
       "    </tr>\n",
       "    <tr>\n",
       "      <th>computers.peripherals.scanner</th>\n",
       "      <td>387.0</td>\n",
       "      <td>652.0</td>\n",
       "      <td>37.247353</td>\n",
       "    </tr>\n",
       "    <tr>\n",
       "      <th>country_yard.cultivator</th>\n",
       "      <td>489.0</td>\n",
       "      <td>829.0</td>\n",
       "      <td>37.101669</td>\n",
       "    </tr>\n",
       "    <tr>\n",
       "      <th>computers.components.motherboard</th>\n",
       "      <td>4117.0</td>\n",
       "      <td>7026.0</td>\n",
       "      <td>36.946962</td>\n",
       "    </tr>\n",
       "    <tr>\n",
       "      <th>auto.accessories.player</th>\n",
       "      <td>3103.0</td>\n",
       "      <td>5562.0</td>\n",
       "      <td>35.810733</td>\n",
       "    </tr>\n",
       "    <tr>\n",
       "      <th>country_yard.lawn_mower</th>\n",
       "      <td>47.0</td>\n",
       "      <td>85.0</td>\n",
       "      <td>35.606061</td>\n",
       "    </tr>\n",
       "    <tr>\n",
       "      <th>electronics.fax</th>\n",
       "      <td>105.0</td>\n",
       "      <td>200.0</td>\n",
       "      <td>34.426230</td>\n",
       "    </tr>\n",
       "    <tr>\n",
       "      <th>computers.ebooks</th>\n",
       "      <td>617.0</td>\n",
       "      <td>1225.0</td>\n",
       "      <td>33.496200</td>\n",
       "    </tr>\n",
       "    <tr>\n",
       "      <th>computers.components.cpu</th>\n",
       "      <td>3868.0</td>\n",
       "      <td>7714.0</td>\n",
       "      <td>33.396650</td>\n",
       "    </tr>\n",
       "    <tr>\n",
       "      <th>accessories.briefcase</th>\n",
       "      <td>2.0</td>\n",
       "      <td>4.0</td>\n",
       "      <td>33.333333</td>\n",
       "    </tr>\n",
       "    <tr>\n",
       "      <th>construction.tools.drill</th>\n",
       "      <td>1523.0</td>\n",
       "      <td>3080.0</td>\n",
       "      <td>33.087117</td>\n",
       "    </tr>\n",
       "    <tr>\n",
       "      <th>construction.tools.welding</th>\n",
       "      <td>598.0</td>\n",
       "      <td>1234.0</td>\n",
       "      <td>32.641921</td>\n",
       "    </tr>\n",
       "    <tr>\n",
       "      <th>sport.bicycle</th>\n",
       "      <td>41.0</td>\n",
       "      <td>87.0</td>\n",
       "      <td>32.031250</td>\n",
       "    </tr>\n",
       "    <tr>\n",
       "      <th>medicine.tools.tonometer</th>\n",
       "      <td>144.0</td>\n",
       "      <td>306.0</td>\n",
       "      <td>32.000000</td>\n",
       "    </tr>\n",
       "    <tr>\n",
       "      <th>electronics.video.projector</th>\n",
       "      <td>274.0</td>\n",
       "      <td>584.0</td>\n",
       "      <td>31.934732</td>\n",
       "    </tr>\n",
       "    <tr>\n",
       "      <th>auto.accessories.gps</th>\n",
       "      <td>380.0</td>\n",
       "      <td>825.0</td>\n",
       "      <td>31.535270</td>\n",
       "    </tr>\n",
       "    <tr>\n",
       "      <th>computers.components.power_supply</th>\n",
       "      <td>1175.0</td>\n",
       "      <td>2563.0</td>\n",
       "      <td>31.433922</td>\n",
       "    </tr>\n",
       "    <tr>\n",
       "      <th>computers.peripherals.printer</th>\n",
       "      <td>7234.0</td>\n",
       "      <td>15929.0</td>\n",
       "      <td>31.230842</td>\n",
       "    </tr>\n",
       "    <tr>\n",
       "      <th>computers.components.cdrw</th>\n",
       "      <td>125.0</td>\n",
       "      <td>279.0</td>\n",
       "      <td>30.940594</td>\n",
       "    </tr>\n",
       "    <tr>\n",
       "      <th>electronics.video.tv</th>\n",
       "      <td>3693.0</td>\n",
       "      <td>8376.0</td>\n",
       "      <td>30.599055</td>\n",
       "    </tr>\n",
       "    <tr>\n",
       "      <th>computers.peripherals.nas</th>\n",
       "      <td>40.0</td>\n",
       "      <td>91.0</td>\n",
       "      <td>30.534351</td>\n",
       "    </tr>\n",
       "    <tr>\n",
       "      <th>computers.network.router</th>\n",
       "      <td>297.0</td>\n",
       "      <td>687.0</td>\n",
       "      <td>30.182927</td>\n",
       "    </tr>\n",
       "    <tr>\n",
       "      <th>appliances.kitchen.fryer</th>\n",
       "      <td>58.0</td>\n",
       "      <td>136.0</td>\n",
       "      <td>29.896907</td>\n",
       "    </tr>\n",
       "    <tr>\n",
       "      <th>furniture.living_room.shelving</th>\n",
       "      <td>608.0</td>\n",
       "      <td>1436.0</td>\n",
       "      <td>29.745597</td>\n",
       "    </tr>\n",
       "    <tr>\n",
       "      <th>appliances.kitchen.microwave</th>\n",
       "      <td>474.0</td>\n",
       "      <td>1132.0</td>\n",
       "      <td>29.514321</td>\n",
       "    </tr>\n",
       "    <tr>\n",
       "      <th>computers.peripherals.joystick</th>\n",
       "      <td>1169.0</td>\n",
       "      <td>2793.0</td>\n",
       "      <td>29.505300</td>\n",
       "    </tr>\n",
       "    <tr>\n",
       "      <th>appliances.steam_cleaner</th>\n",
       "      <td>218.0</td>\n",
       "      <td>522.0</td>\n",
       "      <td>29.459459</td>\n",
       "    </tr>\n",
       "    <tr>\n",
       "      <th>construction.tools.soldering</th>\n",
       "      <td>1369.0</td>\n",
       "      <td>3324.0</td>\n",
       "      <td>29.171106</td>\n",
       "    </tr>\n",
       "    <tr>\n",
       "      <th>auto.accessories.compressor</th>\n",
       "      <td>454.0</td>\n",
       "      <td>1106.0</td>\n",
       "      <td>29.102564</td>\n",
       "    </tr>\n",
       "    <tr>\n",
       "      <th>computers.components.cooler</th>\n",
       "      <td>1494.0</td>\n",
       "      <td>3683.0</td>\n",
       "      <td>28.858412</td>\n",
       "    </tr>\n",
       "    <tr>\n",
       "      <th>electronics.tablet</th>\n",
       "      <td>3287.0</td>\n",
       "      <td>8151.0</td>\n",
       "      <td>28.737542</td>\n",
       "    </tr>\n",
       "    <tr>\n",
       "      <th>construction.tools.saw</th>\n",
       "      <td>603.0</td>\n",
       "      <td>1528.0</td>\n",
       "      <td>28.296574</td>\n",
       "    </tr>\n",
       "    <tr>\n",
       "      <th>appliances.environment.vacuum</th>\n",
       "      <td>1230.0</td>\n",
       "      <td>3178.0</td>\n",
       "      <td>27.903811</td>\n",
       "    </tr>\n",
       "    <tr>\n",
       "      <th>electronics.camera.video</th>\n",
       "      <td>272.0</td>\n",
       "      <td>703.0</td>\n",
       "      <td>27.897436</td>\n",
       "    </tr>\n",
       "    <tr>\n",
       "      <th>appliances.sewing_machine</th>\n",
       "      <td>1000.0</td>\n",
       "      <td>2593.0</td>\n",
       "      <td>27.831895</td>\n",
       "    </tr>\n",
       "    <tr>\n",
       "      <th>computers.components.hdd</th>\n",
       "      <td>1110.0</td>\n",
       "      <td>2914.0</td>\n",
       "      <td>27.584493</td>\n",
       "    </tr>\n",
       "    <tr>\n",
       "      <th>auto.accessories.alarm</th>\n",
       "      <td>537.0</td>\n",
       "      <td>1424.0</td>\n",
       "      <td>27.383988</td>\n",
       "    </tr>\n",
       "    <tr>\n",
       "      <th>electronics.telephone</th>\n",
       "      <td>13620.0</td>\n",
       "      <td>36220.0</td>\n",
       "      <td>27.327448</td>\n",
       "    </tr>\n",
       "    <tr>\n",
       "      <th>construction.tools.screw</th>\n",
       "      <td>315.0</td>\n",
       "      <td>838.0</td>\n",
       "      <td>27.320035</td>\n",
       "    </tr>\n",
       "    <tr>\n",
       "      <th>appliances.kitchen.mixer</th>\n",
       "      <td>350.0</td>\n",
       "      <td>936.0</td>\n",
       "      <td>27.216174</td>\n",
       "    </tr>\n",
       "    <tr>\n",
       "      <th>accessories.bag</th>\n",
       "      <td>346.0</td>\n",
       "      <td>926.0</td>\n",
       "      <td>27.201258</td>\n",
       "    </tr>\n",
       "    <tr>\n",
       "      <th>construction.tools.painting</th>\n",
       "      <td>78.0</td>\n",
       "      <td>211.0</td>\n",
       "      <td>26.989619</td>\n",
       "    </tr>\n",
       "    <tr>\n",
       "      <th>stationery.stapler</th>\n",
       "      <td>119.0</td>\n",
       "      <td>324.0</td>\n",
       "      <td>26.862302</td>\n",
       "    </tr>\n",
       "    <tr>\n",
       "      <th>computers.components.tv_tuner</th>\n",
       "      <td>360.0</td>\n",
       "      <td>983.0</td>\n",
       "      <td>26.805659</td>\n",
       "    </tr>\n",
       "    <tr>\n",
       "      <th>computers.peripherals.monitor</th>\n",
       "      <td>961.0</td>\n",
       "      <td>2629.0</td>\n",
       "      <td>26.768802</td>\n",
       "    </tr>\n",
       "    <tr>\n",
       "      <th>appliances.personal.massager</th>\n",
       "      <td>163.0</td>\n",
       "      <td>446.0</td>\n",
       "      <td>26.765189</td>\n",
       "    </tr>\n",
       "  </tbody>\n",
       "</table>\n",
       "</div>"
      ],
      "text/plain": [
       "bounced                            bounced  not_bounced  bounced_rate\n",
       "category_code                                                        \n",
       "furniture.bedroom.blanket              8.0          9.0     47.058824\n",
       "computers.components.videocards    19525.0      23902.0     44.960508\n",
       "auto.accessories.parktronic          371.0        515.0     41.873589\n",
       "computers.peripherals.camera         988.0       1527.0     39.284294\n",
       "electronics.audio.dictaphone          59.0         95.0     38.311688\n",
       "computers.peripherals.scanner        387.0        652.0     37.247353\n",
       "country_yard.cultivator              489.0        829.0     37.101669\n",
       "computers.components.motherboard    4117.0       7026.0     36.946962\n",
       "auto.accessories.player             3103.0       5562.0     35.810733\n",
       "country_yard.lawn_mower               47.0         85.0     35.606061\n",
       "electronics.fax                      105.0        200.0     34.426230\n",
       "computers.ebooks                     617.0       1225.0     33.496200\n",
       "computers.components.cpu            3868.0       7714.0     33.396650\n",
       "accessories.briefcase                  2.0          4.0     33.333333\n",
       "construction.tools.drill            1523.0       3080.0     33.087117\n",
       "construction.tools.welding           598.0       1234.0     32.641921\n",
       "sport.bicycle                         41.0         87.0     32.031250\n",
       "medicine.tools.tonometer             144.0        306.0     32.000000\n",
       "electronics.video.projector          274.0        584.0     31.934732\n",
       "auto.accessories.gps                 380.0        825.0     31.535270\n",
       "computers.components.power_supply   1175.0       2563.0     31.433922\n",
       "computers.peripherals.printer       7234.0      15929.0     31.230842\n",
       "computers.components.cdrw            125.0        279.0     30.940594\n",
       "electronics.video.tv                3693.0       8376.0     30.599055\n",
       "computers.peripherals.nas             40.0         91.0     30.534351\n",
       "computers.network.router             297.0        687.0     30.182927\n",
       "appliances.kitchen.fryer              58.0        136.0     29.896907\n",
       "furniture.living_room.shelving       608.0       1436.0     29.745597\n",
       "appliances.kitchen.microwave         474.0       1132.0     29.514321\n",
       "computers.peripherals.joystick      1169.0       2793.0     29.505300\n",
       "appliances.steam_cleaner             218.0        522.0     29.459459\n",
       "construction.tools.soldering        1369.0       3324.0     29.171106\n",
       "auto.accessories.compressor          454.0       1106.0     29.102564\n",
       "computers.components.cooler         1494.0       3683.0     28.858412\n",
       "electronics.tablet                  3287.0       8151.0     28.737542\n",
       "construction.tools.saw               603.0       1528.0     28.296574\n",
       "appliances.environment.vacuum       1230.0       3178.0     27.903811\n",
       "electronics.camera.video             272.0        703.0     27.897436\n",
       "appliances.sewing_machine           1000.0       2593.0     27.831895\n",
       "computers.components.hdd            1110.0       2914.0     27.584493\n",
       "auto.accessories.alarm               537.0       1424.0     27.383988\n",
       "electronics.telephone              13620.0      36220.0     27.327448\n",
       "construction.tools.screw             315.0        838.0     27.320035\n",
       "appliances.kitchen.mixer             350.0        936.0     27.216174\n",
       "accessories.bag                      346.0        926.0     27.201258\n",
       "construction.tools.painting           78.0        211.0     26.989619\n",
       "stationery.stapler                   119.0        324.0     26.862302\n",
       "computers.components.tv_tuner        360.0        983.0     26.805659\n",
       "computers.peripherals.monitor        961.0       2629.0     26.768802\n",
       "appliances.personal.massager         163.0        446.0     26.765189"
      ]
     },
     "execution_count": 169,
     "metadata": {},
     "output_type": "execute_result"
    }
   ],
   "source": [
    "#이탈률이 높은 제품군 상위 50위\n",
    "bounced_cat_tot.sort_values(by=['bounced_rate'], ascending=False)[:50]"
   ]
  },
  {
   "cell_type": "code",
   "execution_count": 171,
   "metadata": {},
   "outputs": [
    {
     "data": {
      "text/html": [
       "<div>\n",
       "<style scoped>\n",
       "    .dataframe tbody tr th:only-of-type {\n",
       "        vertical-align: middle;\n",
       "    }\n",
       "\n",
       "    .dataframe tbody tr th {\n",
       "        vertical-align: top;\n",
       "    }\n",
       "\n",
       "    .dataframe thead th {\n",
       "        text-align: right;\n",
       "    }\n",
       "</style>\n",
       "<table border=\"1\" class=\"dataframe\">\n",
       "  <thead>\n",
       "    <tr style=\"text-align: right;\">\n",
       "      <th>bounced</th>\n",
       "      <th>bounced</th>\n",
       "      <th>not_bounced</th>\n",
       "      <th>bounced_rate</th>\n",
       "    </tr>\n",
       "    <tr>\n",
       "      <th>category_code</th>\n",
       "      <th></th>\n",
       "      <th></th>\n",
       "      <th></th>\n",
       "    </tr>\n",
       "  </thead>\n",
       "  <tbody>\n",
       "    <tr>\n",
       "      <th>appliances.kitchen.washer</th>\n",
       "      <td>4.0</td>\n",
       "      <td>51.0</td>\n",
       "      <td>7.272727</td>\n",
       "    </tr>\n",
       "    <tr>\n",
       "      <th>auto.accessories.light</th>\n",
       "      <td>3.0</td>\n",
       "      <td>23.0</td>\n",
       "      <td>11.538462</td>\n",
       "    </tr>\n",
       "    <tr>\n",
       "      <th>country_yard.watering</th>\n",
       "      <td>4.0</td>\n",
       "      <td>30.0</td>\n",
       "      <td>11.764706</td>\n",
       "    </tr>\n",
       "    <tr>\n",
       "      <th>construction.tools.generator</th>\n",
       "      <td>18.0</td>\n",
       "      <td>126.0</td>\n",
       "      <td>12.500000</td>\n",
       "    </tr>\n",
       "    <tr>\n",
       "      <th>computers.gaming</th>\n",
       "      <td>23.0</td>\n",
       "      <td>145.0</td>\n",
       "      <td>13.690476</td>\n",
       "    </tr>\n",
       "    <tr>\n",
       "      <th>furniture.living_room.chair</th>\n",
       "      <td>5.0</td>\n",
       "      <td>31.0</td>\n",
       "      <td>13.888889</td>\n",
       "    </tr>\n",
       "    <tr>\n",
       "      <th>appliances.personal.scales</th>\n",
       "      <td>61.0</td>\n",
       "      <td>376.0</td>\n",
       "      <td>13.958810</td>\n",
       "    </tr>\n",
       "    <tr>\n",
       "      <th>kids.toys</th>\n",
       "      <td>19.0</td>\n",
       "      <td>107.0</td>\n",
       "      <td>15.079365</td>\n",
       "    </tr>\n",
       "    <tr>\n",
       "      <th>appliances.kitchen.refrigerators</th>\n",
       "      <td>2.0</td>\n",
       "      <td>11.0</td>\n",
       "      <td>15.384615</td>\n",
       "    </tr>\n",
       "    <tr>\n",
       "      <th>appliances.iron</th>\n",
       "      <td>70.0</td>\n",
       "      <td>380.0</td>\n",
       "      <td>15.555556</td>\n",
       "    </tr>\n",
       "    <tr>\n",
       "      <th>appliances.kitchen.juicer</th>\n",
       "      <td>241.0</td>\n",
       "      <td>1218.0</td>\n",
       "      <td>16.518163</td>\n",
       "    </tr>\n",
       "    <tr>\n",
       "      <th>computers.components.network_adapter</th>\n",
       "      <td>186.0</td>\n",
       "      <td>920.0</td>\n",
       "      <td>16.817360</td>\n",
       "    </tr>\n",
       "    <tr>\n",
       "      <th>appliances.kitchen.steam_cooker</th>\n",
       "      <td>13.0</td>\n",
       "      <td>62.0</td>\n",
       "      <td>17.333333</td>\n",
       "    </tr>\n",
       "    <tr>\n",
       "      <th>electronics.audio.microphone</th>\n",
       "      <td>305.0</td>\n",
       "      <td>1447.0</td>\n",
       "      <td>17.408676</td>\n",
       "    </tr>\n",
       "    <tr>\n",
       "      <th>computers.peripherals.vr</th>\n",
       "      <td>24.0</td>\n",
       "      <td>112.0</td>\n",
       "      <td>17.647059</td>\n",
       "    </tr>\n",
       "    <tr>\n",
       "      <th>jewelry.souvenir</th>\n",
       "      <td>28.0</td>\n",
       "      <td>129.0</td>\n",
       "      <td>17.834395</td>\n",
       "    </tr>\n",
       "    <tr>\n",
       "      <th>appliances.kitchen.toster</th>\n",
       "      <td>27.0</td>\n",
       "      <td>123.0</td>\n",
       "      <td>18.000000</td>\n",
       "    </tr>\n",
       "    <tr>\n",
       "      <th>furniture.kitchen.chair</th>\n",
       "      <td>2.0</td>\n",
       "      <td>9.0</td>\n",
       "      <td>18.181818</td>\n",
       "    </tr>\n",
       "    <tr>\n",
       "      <th>electronics.clocks</th>\n",
       "      <td>473.0</td>\n",
       "      <td>2104.0</td>\n",
       "      <td>18.354676</td>\n",
       "    </tr>\n",
       "    <tr>\n",
       "      <th>computers.peripherals.mouse</th>\n",
       "      <td>547.0</td>\n",
       "      <td>2342.0</td>\n",
       "      <td>18.933887</td>\n",
       "    </tr>\n",
       "    <tr>\n",
       "      <th>electronics.audio.headphone</th>\n",
       "      <td>995.0</td>\n",
       "      <td>4201.0</td>\n",
       "      <td>19.149346</td>\n",
       "    </tr>\n",
       "    <tr>\n",
       "      <th>computers.components.sound_card</th>\n",
       "      <td>205.0</td>\n",
       "      <td>855.0</td>\n",
       "      <td>19.339623</td>\n",
       "    </tr>\n",
       "    <tr>\n",
       "      <th>country_yard.weather_station</th>\n",
       "      <td>64.0</td>\n",
       "      <td>257.0</td>\n",
       "      <td>19.937695</td>\n",
       "    </tr>\n",
       "    <tr>\n",
       "      <th>apparel.glove</th>\n",
       "      <td>17.0</td>\n",
       "      <td>68.0</td>\n",
       "      <td>20.000000</td>\n",
       "    </tr>\n",
       "    <tr>\n",
       "      <th>auto.accessories.radar</th>\n",
       "      <td>81.0</td>\n",
       "      <td>317.0</td>\n",
       "      <td>20.351759</td>\n",
       "    </tr>\n",
       "    <tr>\n",
       "      <th>appliances.kitchen.coffee_machine</th>\n",
       "      <td>501.0</td>\n",
       "      <td>1931.0</td>\n",
       "      <td>20.600329</td>\n",
       "    </tr>\n",
       "    <tr>\n",
       "      <th>appliances.kitchen.coffee_grinder</th>\n",
       "      <td>32.0</td>\n",
       "      <td>117.0</td>\n",
       "      <td>21.476510</td>\n",
       "    </tr>\n",
       "    <tr>\n",
       "      <th>appliances.kitchen.blender</th>\n",
       "      <td>164.0</td>\n",
       "      <td>595.0</td>\n",
       "      <td>21.607378</td>\n",
       "    </tr>\n",
       "    <tr>\n",
       "      <th>appliances.environment.fan</th>\n",
       "      <td>13.0</td>\n",
       "      <td>47.0</td>\n",
       "      <td>21.666667</td>\n",
       "    </tr>\n",
       "    <tr>\n",
       "      <th>stationery.paper</th>\n",
       "      <td>266.0</td>\n",
       "      <td>939.0</td>\n",
       "      <td>22.074689</td>\n",
       "    </tr>\n",
       "    <tr>\n",
       "      <th>construction.tools.light</th>\n",
       "      <td>366.0</td>\n",
       "      <td>1286.0</td>\n",
       "      <td>22.154964</td>\n",
       "    </tr>\n",
       "    <tr>\n",
       "      <th>electronics.video.tv_remote</th>\n",
       "      <td>155.0</td>\n",
       "      <td>531.0</td>\n",
       "      <td>22.594752</td>\n",
       "    </tr>\n",
       "    <tr>\n",
       "      <th>kids.skates</th>\n",
       "      <td>34.0</td>\n",
       "      <td>116.0</td>\n",
       "      <td>22.666667</td>\n",
       "    </tr>\n",
       "    <tr>\n",
       "      <th>electronics.audio.music_tools.piano</th>\n",
       "      <td>66.0</td>\n",
       "      <td>222.0</td>\n",
       "      <td>22.916667</td>\n",
       "    </tr>\n",
       "    <tr>\n",
       "      <th>appliances.kitchen.grill</th>\n",
       "      <td>479.0</td>\n",
       "      <td>1566.0</td>\n",
       "      <td>23.422983</td>\n",
       "    </tr>\n",
       "    <tr>\n",
       "      <th>auto.accessories.window</th>\n",
       "      <td>43.0</td>\n",
       "      <td>139.0</td>\n",
       "      <td>23.626374</td>\n",
       "    </tr>\n",
       "    <tr>\n",
       "      <th>stationery.battery</th>\n",
       "      <td>227.0</td>\n",
       "      <td>730.0</td>\n",
       "      <td>23.719958</td>\n",
       "    </tr>\n",
       "    <tr>\n",
       "      <th>appliances.environment.air_heater</th>\n",
       "      <td>135.0</td>\n",
       "      <td>433.0</td>\n",
       "      <td>23.767606</td>\n",
       "    </tr>\n",
       "    <tr>\n",
       "      <th>jewelry.ring</th>\n",
       "      <td>5.0</td>\n",
       "      <td>16.0</td>\n",
       "      <td>23.809524</td>\n",
       "    </tr>\n",
       "    <tr>\n",
       "      <th>construction.tools.heater</th>\n",
       "      <td>20.0</td>\n",
       "      <td>64.0</td>\n",
       "      <td>23.809524</td>\n",
       "    </tr>\n",
       "    <tr>\n",
       "      <th>construction.tools.pump</th>\n",
       "      <td>106.0</td>\n",
       "      <td>338.0</td>\n",
       "      <td>23.873874</td>\n",
       "    </tr>\n",
       "    <tr>\n",
       "      <th>furniture.bathroom.bath</th>\n",
       "      <td>6.0</td>\n",
       "      <td>19.0</td>\n",
       "      <td>24.000000</td>\n",
       "    </tr>\n",
       "    <tr>\n",
       "      <th>electronics.camera.photo</th>\n",
       "      <td>36.0</td>\n",
       "      <td>112.0</td>\n",
       "      <td>24.324324</td>\n",
       "    </tr>\n",
       "    <tr>\n",
       "      <th>appliances.personal.hair_cutter</th>\n",
       "      <td>223.0</td>\n",
       "      <td>683.0</td>\n",
       "      <td>24.613687</td>\n",
       "    </tr>\n",
       "    <tr>\n",
       "      <th>auto.accessories.immobilizer</th>\n",
       "      <td>15.0</td>\n",
       "      <td>45.0</td>\n",
       "      <td>25.000000</td>\n",
       "    </tr>\n",
       "    <tr>\n",
       "      <th>auto.accessories.winch</th>\n",
       "      <td>1.0</td>\n",
       "      <td>3.0</td>\n",
       "      <td>25.000000</td>\n",
       "    </tr>\n",
       "    <tr>\n",
       "      <th>stationery.cartrige</th>\n",
       "      <td>5993.0</td>\n",
       "      <td>17970.0</td>\n",
       "      <td>25.009389</td>\n",
       "    </tr>\n",
       "    <tr>\n",
       "      <th>computers.peripherals.keyboard</th>\n",
       "      <td>377.0</td>\n",
       "      <td>1119.0</td>\n",
       "      <td>25.200535</td>\n",
       "    </tr>\n",
       "    <tr>\n",
       "      <th>appliances.kitchen.meat_grinder</th>\n",
       "      <td>406.0</td>\n",
       "      <td>1193.0</td>\n",
       "      <td>25.390869</td>\n",
       "    </tr>\n",
       "    <tr>\n",
       "      <th>appliances.kitchen.kettle</th>\n",
       "      <td>382.0</td>\n",
       "      <td>1112.0</td>\n",
       "      <td>25.568942</td>\n",
       "    </tr>\n",
       "  </tbody>\n",
       "</table>\n",
       "</div>"
      ],
      "text/plain": [
       "bounced                               bounced  not_bounced  bounced_rate\n",
       "category_code                                                           \n",
       "appliances.kitchen.washer                 4.0         51.0      7.272727\n",
       "auto.accessories.light                    3.0         23.0     11.538462\n",
       "country_yard.watering                     4.0         30.0     11.764706\n",
       "construction.tools.generator             18.0        126.0     12.500000\n",
       "computers.gaming                         23.0        145.0     13.690476\n",
       "furniture.living_room.chair               5.0         31.0     13.888889\n",
       "appliances.personal.scales               61.0        376.0     13.958810\n",
       "kids.toys                                19.0        107.0     15.079365\n",
       "appliances.kitchen.refrigerators          2.0         11.0     15.384615\n",
       "appliances.iron                          70.0        380.0     15.555556\n",
       "appliances.kitchen.juicer               241.0       1218.0     16.518163\n",
       "computers.components.network_adapter    186.0        920.0     16.817360\n",
       "appliances.kitchen.steam_cooker          13.0         62.0     17.333333\n",
       "electronics.audio.microphone            305.0       1447.0     17.408676\n",
       "computers.peripherals.vr                 24.0        112.0     17.647059\n",
       "jewelry.souvenir                         28.0        129.0     17.834395\n",
       "appliances.kitchen.toster                27.0        123.0     18.000000\n",
       "furniture.kitchen.chair                   2.0          9.0     18.181818\n",
       "electronics.clocks                      473.0       2104.0     18.354676\n",
       "computers.peripherals.mouse             547.0       2342.0     18.933887\n",
       "electronics.audio.headphone             995.0       4201.0     19.149346\n",
       "computers.components.sound_card         205.0        855.0     19.339623\n",
       "country_yard.weather_station             64.0        257.0     19.937695\n",
       "apparel.glove                            17.0         68.0     20.000000\n",
       "auto.accessories.radar                   81.0        317.0     20.351759\n",
       "appliances.kitchen.coffee_machine       501.0       1931.0     20.600329\n",
       "appliances.kitchen.coffee_grinder        32.0        117.0     21.476510\n",
       "appliances.kitchen.blender              164.0        595.0     21.607378\n",
       "appliances.environment.fan               13.0         47.0     21.666667\n",
       "stationery.paper                        266.0        939.0     22.074689\n",
       "construction.tools.light                366.0       1286.0     22.154964\n",
       "electronics.video.tv_remote             155.0        531.0     22.594752\n",
       "kids.skates                              34.0        116.0     22.666667\n",
       "electronics.audio.music_tools.piano      66.0        222.0     22.916667\n",
       "appliances.kitchen.grill                479.0       1566.0     23.422983\n",
       "auto.accessories.window                  43.0        139.0     23.626374\n",
       "stationery.battery                      227.0        730.0     23.719958\n",
       "appliances.environment.air_heater       135.0        433.0     23.767606\n",
       "jewelry.ring                              5.0         16.0     23.809524\n",
       "construction.tools.heater                20.0         64.0     23.809524\n",
       "construction.tools.pump                 106.0        338.0     23.873874\n",
       "furniture.bathroom.bath                   6.0         19.0     24.000000\n",
       "electronics.camera.photo                 36.0        112.0     24.324324\n",
       "appliances.personal.hair_cutter         223.0        683.0     24.613687\n",
       "auto.accessories.immobilizer             15.0         45.0     25.000000\n",
       "auto.accessories.winch                    1.0          3.0     25.000000\n",
       "stationery.cartrige                    5993.0      17970.0     25.009389\n",
       "computers.peripherals.keyboard          377.0       1119.0     25.200535\n",
       "appliances.kitchen.meat_grinder         406.0       1193.0     25.390869\n",
       "appliances.kitchen.kettle               382.0       1112.0     25.568942"
      ]
     },
     "execution_count": 171,
     "metadata": {},
     "output_type": "execute_result"
    }
   ],
   "source": [
    "#이탈률이 낮은 제품군 상위 50위\n",
    "bounced_cat_tot.sort_values(by=['bounced_rate'], ascending=True)[:50]"
   ]
  },
  {
   "cell_type": "code",
   "execution_count": null,
   "metadata": {},
   "outputs": [],
   "source": []
  },
  {
   "cell_type": "code",
   "execution_count": null,
   "metadata": {},
   "outputs": [],
   "source": []
  },
  {
   "cell_type": "code",
   "execution_count": null,
   "metadata": {},
   "outputs": [],
   "source": []
  },
  {
   "cell_type": "code",
   "execution_count": null,
   "metadata": {},
   "outputs": [],
   "source": []
  }
 ],
 "metadata": {
  "kernelspec": {
   "display_name": "Python 3",
   "language": "python",
   "name": "python3"
  },
  "language_info": {
   "codemirror_mode": {
    "name": "ipython",
    "version": 3
   },
   "file_extension": ".py",
   "mimetype": "text/x-python",
   "name": "python",
   "nbconvert_exporter": "python",
   "pygments_lexer": "ipython3",
   "version": "3.8.3"
  }
 },
 "nbformat": 4,
 "nbformat_minor": 4
}
